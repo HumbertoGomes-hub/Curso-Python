{
  "nbformat": 4,
  "nbformat_minor": 0,
  "metadata": {
    "colab": {
      "provenance": [],
      "toc_visible": true,
      "include_colab_link": true
    },
    "kernelspec": {
      "name": "python3",
      "display_name": "Python 3"
    },
    "language_info": {
      "name": "python"
    }
  },
  "cells": [
    {
      "cell_type": "markdown",
      "metadata": {
        "id": "view-in-github",
        "colab_type": "text"
      },
      "source": [
        "<a href=\"https://colab.research.google.com/github/HumbertoGomes-hub/Exer-Python/blob/main/si_tda_2025.ipynb\" target=\"_parent\"><img src=\"https://colab.research.google.com/assets/colab-badge.svg\" alt=\"Open In Colab\"/></a>"
      ]
    },
    {
      "cell_type": "markdown",
      "source": [
        "> # **`Técnicas de Desenvolvimento de Algoritmos`**\n",
        "> ###  **Sistemas de Informação - 2º semestre**\n",
        "---\n",
        "---"
      ],
      "metadata": {
        "id": "-quer1zIpkN3"
      }
    }
  ]
}